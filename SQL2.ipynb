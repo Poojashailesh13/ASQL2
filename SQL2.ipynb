{
 "cells": [
  {
   "cell_type": "raw",
   "id": "cd5085b9",
   "metadata": {},
   "source": [
    "Q-1. Write an SQL query to print the first three characters of  FIRST_NAME from Worker\n",
    "table.\n",
    "ANS- SELECT SUBSTRING(FIRST_NAME,1,3)\n",
    "      FROM Worker;"
   ]
  },
  {
   "cell_type": "raw",
   "id": "ab702d07",
   "metadata": {},
   "source": [
    "Q-2. Write an SQL query to find the position of the alphabet (‘a’) in the first name\n",
    "column ‘Amitabh’ from Worker table.\n",
    "ans- Select INSTR(FIRST_NAME, BINARY'a') from Worker where FIRST_NAME = 'Amitabh';"
   ]
  },
  {
   "cell_type": "code",
   "execution_count": null,
   "id": "51f1e874",
   "metadata": {},
   "outputs": [],
   "source": [
    "Q-3. Write an SQL query to print the name of employees having the highest salary in each\n",
    "department.\n",
    "ans- SELECT DepartmentName, MAX(Salary) \n",
    "FROM Employee e RIGHT JOIN Department d ON e.DepartmentId = d.DepartmentID \n",
    "GROUP BY DepartmentName"
   ]
  }
 ],
 "metadata": {
  "kernelspec": {
   "display_name": "Python 3 (ipykernel)",
   "language": "python",
   "name": "python3"
  },
  "language_info": {
   "codemirror_mode": {
    "name": "ipython",
    "version": 3
   },
   "file_extension": ".py",
   "mimetype": "text/x-python",
   "name": "python",
   "nbconvert_exporter": "python",
   "pygments_lexer": "ipython3",
   "version": "3.9.7"
  }
 },
 "nbformat": 4,
 "nbformat_minor": 5
}
